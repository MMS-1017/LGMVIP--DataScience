{
  "nbformat": 4,
  "nbformat_minor": 0,
  "metadata": {
    "colab": {
      "provenance": [],
      "authorship_tag": "ABX9TyMSO7gyKCEDYyv5vzDHnmGL",
      "include_colab_link": true
    },
    "kernelspec": {
      "name": "python3",
      "display_name": "Python 3"
    },
    "language_info": {
      "name": "python"
    }
  },
  "cells": [
    {
      "cell_type": "markdown",
      "metadata": {
        "id": "view-in-github",
        "colab_type": "text"
      },
      "source": [
        "<a href=\"https://colab.research.google.com/github/MMS-1017/LGMVIP--DataScience/blob/main/Stock_Price.ipynb\" target=\"_parent\"><img src=\"https://colab.research.google.com/assets/colab-badge.svg\" alt=\"Open In Colab\"/></a>"
      ]
    },
    {
      "cell_type": "code",
      "execution_count": 27,
      "metadata": {
        "id": "50ZtUgcHdCQI"
      },
      "outputs": [],
      "source": [
        "# importing essential libraries\n",
        "import numpy as np\n",
        "import pandas as pd \n",
        "import matplotlib.pyplot as plt\n",
        "import seaborn as sns\n",
        "from sklearn.preprocessing import MinMaxScaler\n",
        "from sklearn.metrics import mean_squared_error"
      ]
    },
    {
      "cell_type": "code",
      "source": [
        "df= pd.read_csv('/content/Stock.csv')\n",
        "df.head()"
      ],
      "metadata": {
        "id": "lGq_mvtvgCWs",
        "colab": {
          "base_uri": "https://localhost:8080/",
          "height": 206
        },
        "outputId": "b4f68989-eeef-4608-ed87-66f98b593a3a"
      },
      "execution_count": 28,
      "outputs": [
        {
          "output_type": "execute_result",
          "data": {
            "text/plain": [
              "       Date    Open    High     Low    Last   Close  Total Trade Quantity  \\\n",
              "0  28-09-18  234.05  235.95  230.20  233.50  233.75               3069914   \n",
              "1  27-09-18  234.55  236.80  231.10  233.80  233.25               5082859   \n",
              "2  26-09-18  240.00  240.00  232.50  235.00  234.25               2240909   \n",
              "3  25-09-18  233.30  236.75  232.00  236.25  236.10               2349368   \n",
              "4  24-09-18  233.55  239.20  230.75  234.00  233.30               3423509   \n",
              "\n",
              "   Turnover (Lacs)  \n",
              "0          7162.35  \n",
              "1         11859.95  \n",
              "2          5248.60  \n",
              "3          5503.90  \n",
              "4          7999.55  "
            ],
            "text/html": [
              "\n",
              "  <div id=\"df-856d1564-f32c-40c7-a964-2d1f77731a4d\">\n",
              "    <div class=\"colab-df-container\">\n",
              "      <div>\n",
              "<style scoped>\n",
              "    .dataframe tbody tr th:only-of-type {\n",
              "        vertical-align: middle;\n",
              "    }\n",
              "\n",
              "    .dataframe tbody tr th {\n",
              "        vertical-align: top;\n",
              "    }\n",
              "\n",
              "    .dataframe thead th {\n",
              "        text-align: right;\n",
              "    }\n",
              "</style>\n",
              "<table border=\"1\" class=\"dataframe\">\n",
              "  <thead>\n",
              "    <tr style=\"text-align: right;\">\n",
              "      <th></th>\n",
              "      <th>Date</th>\n",
              "      <th>Open</th>\n",
              "      <th>High</th>\n",
              "      <th>Low</th>\n",
              "      <th>Last</th>\n",
              "      <th>Close</th>\n",
              "      <th>Total Trade Quantity</th>\n",
              "      <th>Turnover (Lacs)</th>\n",
              "    </tr>\n",
              "  </thead>\n",
              "  <tbody>\n",
              "    <tr>\n",
              "      <th>0</th>\n",
              "      <td>28-09-18</td>\n",
              "      <td>234.05</td>\n",
              "      <td>235.95</td>\n",
              "      <td>230.20</td>\n",
              "      <td>233.50</td>\n",
              "      <td>233.75</td>\n",
              "      <td>3069914</td>\n",
              "      <td>7162.35</td>\n",
              "    </tr>\n",
              "    <tr>\n",
              "      <th>1</th>\n",
              "      <td>27-09-18</td>\n",
              "      <td>234.55</td>\n",
              "      <td>236.80</td>\n",
              "      <td>231.10</td>\n",
              "      <td>233.80</td>\n",
              "      <td>233.25</td>\n",
              "      <td>5082859</td>\n",
              "      <td>11859.95</td>\n",
              "    </tr>\n",
              "    <tr>\n",
              "      <th>2</th>\n",
              "      <td>26-09-18</td>\n",
              "      <td>240.00</td>\n",
              "      <td>240.00</td>\n",
              "      <td>232.50</td>\n",
              "      <td>235.00</td>\n",
              "      <td>234.25</td>\n",
              "      <td>2240909</td>\n",
              "      <td>5248.60</td>\n",
              "    </tr>\n",
              "    <tr>\n",
              "      <th>3</th>\n",
              "      <td>25-09-18</td>\n",
              "      <td>233.30</td>\n",
              "      <td>236.75</td>\n",
              "      <td>232.00</td>\n",
              "      <td>236.25</td>\n",
              "      <td>236.10</td>\n",
              "      <td>2349368</td>\n",
              "      <td>5503.90</td>\n",
              "    </tr>\n",
              "    <tr>\n",
              "      <th>4</th>\n",
              "      <td>24-09-18</td>\n",
              "      <td>233.55</td>\n",
              "      <td>239.20</td>\n",
              "      <td>230.75</td>\n",
              "      <td>234.00</td>\n",
              "      <td>233.30</td>\n",
              "      <td>3423509</td>\n",
              "      <td>7999.55</td>\n",
              "    </tr>\n",
              "  </tbody>\n",
              "</table>\n",
              "</div>\n",
              "      <button class=\"colab-df-convert\" onclick=\"convertToInteractive('df-856d1564-f32c-40c7-a964-2d1f77731a4d')\"\n",
              "              title=\"Convert this dataframe to an interactive table.\"\n",
              "              style=\"display:none;\">\n",
              "        \n",
              "  <svg xmlns=\"http://www.w3.org/2000/svg\" height=\"24px\"viewBox=\"0 0 24 24\"\n",
              "       width=\"24px\">\n",
              "    <path d=\"M0 0h24v24H0V0z\" fill=\"none\"/>\n",
              "    <path d=\"M18.56 5.44l.94 2.06.94-2.06 2.06-.94-2.06-.94-.94-2.06-.94 2.06-2.06.94zm-11 1L8.5 8.5l.94-2.06 2.06-.94-2.06-.94L8.5 2.5l-.94 2.06-2.06.94zm10 10l.94 2.06.94-2.06 2.06-.94-2.06-.94-.94-2.06-.94 2.06-2.06.94z\"/><path d=\"M17.41 7.96l-1.37-1.37c-.4-.4-.92-.59-1.43-.59-.52 0-1.04.2-1.43.59L10.3 9.45l-7.72 7.72c-.78.78-.78 2.05 0 2.83L4 21.41c.39.39.9.59 1.41.59.51 0 1.02-.2 1.41-.59l7.78-7.78 2.81-2.81c.8-.78.8-2.07 0-2.86zM5.41 20L4 18.59l7.72-7.72 1.47 1.35L5.41 20z\"/>\n",
              "  </svg>\n",
              "      </button>\n",
              "      \n",
              "  <style>\n",
              "    .colab-df-container {\n",
              "      display:flex;\n",
              "      flex-wrap:wrap;\n",
              "      gap: 12px;\n",
              "    }\n",
              "\n",
              "    .colab-df-convert {\n",
              "      background-color: #E8F0FE;\n",
              "      border: none;\n",
              "      border-radius: 50%;\n",
              "      cursor: pointer;\n",
              "      display: none;\n",
              "      fill: #1967D2;\n",
              "      height: 32px;\n",
              "      padding: 0 0 0 0;\n",
              "      width: 32px;\n",
              "    }\n",
              "\n",
              "    .colab-df-convert:hover {\n",
              "      background-color: #E2EBFA;\n",
              "      box-shadow: 0px 1px 2px rgba(60, 64, 67, 0.3), 0px 1px 3px 1px rgba(60, 64, 67, 0.15);\n",
              "      fill: #174EA6;\n",
              "    }\n",
              "\n",
              "    [theme=dark] .colab-df-convert {\n",
              "      background-color: #3B4455;\n",
              "      fill: #D2E3FC;\n",
              "    }\n",
              "\n",
              "    [theme=dark] .colab-df-convert:hover {\n",
              "      background-color: #434B5C;\n",
              "      box-shadow: 0px 1px 3px 1px rgba(0, 0, 0, 0.15);\n",
              "      filter: drop-shadow(0px 1px 2px rgba(0, 0, 0, 0.3));\n",
              "      fill: #FFFFFF;\n",
              "    }\n",
              "  </style>\n",
              "\n",
              "      <script>\n",
              "        const buttonEl =\n",
              "          document.querySelector('#df-856d1564-f32c-40c7-a964-2d1f77731a4d button.colab-df-convert');\n",
              "        buttonEl.style.display =\n",
              "          google.colab.kernel.accessAllowed ? 'block' : 'none';\n",
              "\n",
              "        async function convertToInteractive(key) {\n",
              "          const element = document.querySelector('#df-856d1564-f32c-40c7-a964-2d1f77731a4d');\n",
              "          const dataTable =\n",
              "            await google.colab.kernel.invokeFunction('convertToInteractive',\n",
              "                                                     [key], {});\n",
              "          if (!dataTable) return;\n",
              "\n",
              "          const docLinkHtml = 'Like what you see? Visit the ' +\n",
              "            '<a target=\"_blank\" href=https://colab.research.google.com/notebooks/data_table.ipynb>data table notebook</a>'\n",
              "            + ' to learn more about interactive tables.';\n",
              "          element.innerHTML = '';\n",
              "          dataTable['output_type'] = 'display_data';\n",
              "          await google.colab.output.renderOutput(dataTable, element);\n",
              "          const docLink = document.createElement('div');\n",
              "          docLink.innerHTML = docLinkHtml;\n",
              "          element.appendChild(docLink);\n",
              "        }\n",
              "      </script>\n",
              "    </div>\n",
              "  </div>\n",
              "  "
            ]
          },
          "metadata": {},
          "execution_count": 28
        }
      ]
    },
    {
      "cell_type": "code",
      "source": [
        "#rows and columns\n",
        "df.shape"
      ],
      "metadata": {
        "colab": {
          "base_uri": "https://localhost:8080/"
        },
        "id": "d5DITUx5Dkps",
        "outputId": "e5badb92-4b8c-493c-b4b9-164ed278ea3c"
      },
      "execution_count": 29,
      "outputs": [
        {
          "output_type": "execute_result",
          "data": {
            "text/plain": [
              "(2035, 8)"
            ]
          },
          "metadata": {},
          "execution_count": 29
        }
      ]
    },
    {
      "cell_type": "code",
      "source": [
        "#important Statistics\n",
        "df.describe()"
      ],
      "metadata": {
        "colab": {
          "base_uri": "https://localhost:8080/",
          "height": 344
        },
        "id": "ulKr2YsOL_Ks",
        "outputId": "aef51ac7-417e-488e-cbc7-4448b7e09c43"
      },
      "execution_count": 30,
      "outputs": [
        {
          "output_type": "execute_result",
          "data": {
            "text/plain": [
              "              Open         High          Low         Last       Close  \\\n",
              "count  2035.000000  2035.000000  2035.000000  2035.000000  2035.00000   \n",
              "mean    149.713735   151.992826   147.293931   149.474251   149.45027   \n",
              "std      48.664509    49.413109    47.931958    48.732570    48.71204   \n",
              "min      81.100000    82.800000    80.000000    81.000000    80.95000   \n",
              "25%     120.025000   122.100000   118.300000   120.075000   120.05000   \n",
              "50%     141.500000   143.400000   139.600000   141.100000   141.25000   \n",
              "75%     157.175000   159.400000   155.150000   156.925000   156.90000   \n",
              "max     327.700000   328.750000   321.650000   325.950000   325.75000   \n",
              "\n",
              "       Total Trade Quantity  Turnover (Lacs)  \n",
              "count          2.035000e+03      2035.000000  \n",
              "mean           2.335681e+06      3899.980565  \n",
              "std            2.091778e+06      4570.767877  \n",
              "min            3.961000e+04        37.040000  \n",
              "25%            1.146444e+06      1427.460000  \n",
              "50%            1.783456e+06      2512.030000  \n",
              "75%            2.813594e+06      4539.015000  \n",
              "max            2.919102e+07     55755.080000  "
            ],
            "text/html": [
              "\n",
              "  <div id=\"df-7ffc8fac-a2cf-4a0c-a448-67d092fd0659\">\n",
              "    <div class=\"colab-df-container\">\n",
              "      <div>\n",
              "<style scoped>\n",
              "    .dataframe tbody tr th:only-of-type {\n",
              "        vertical-align: middle;\n",
              "    }\n",
              "\n",
              "    .dataframe tbody tr th {\n",
              "        vertical-align: top;\n",
              "    }\n",
              "\n",
              "    .dataframe thead th {\n",
              "        text-align: right;\n",
              "    }\n",
              "</style>\n",
              "<table border=\"1\" class=\"dataframe\">\n",
              "  <thead>\n",
              "    <tr style=\"text-align: right;\">\n",
              "      <th></th>\n",
              "      <th>Open</th>\n",
              "      <th>High</th>\n",
              "      <th>Low</th>\n",
              "      <th>Last</th>\n",
              "      <th>Close</th>\n",
              "      <th>Total Trade Quantity</th>\n",
              "      <th>Turnover (Lacs)</th>\n",
              "    </tr>\n",
              "  </thead>\n",
              "  <tbody>\n",
              "    <tr>\n",
              "      <th>count</th>\n",
              "      <td>2035.000000</td>\n",
              "      <td>2035.000000</td>\n",
              "      <td>2035.000000</td>\n",
              "      <td>2035.000000</td>\n",
              "      <td>2035.00000</td>\n",
              "      <td>2.035000e+03</td>\n",
              "      <td>2035.000000</td>\n",
              "    </tr>\n",
              "    <tr>\n",
              "      <th>mean</th>\n",
              "      <td>149.713735</td>\n",
              "      <td>151.992826</td>\n",
              "      <td>147.293931</td>\n",
              "      <td>149.474251</td>\n",
              "      <td>149.45027</td>\n",
              "      <td>2.335681e+06</td>\n",
              "      <td>3899.980565</td>\n",
              "    </tr>\n",
              "    <tr>\n",
              "      <th>std</th>\n",
              "      <td>48.664509</td>\n",
              "      <td>49.413109</td>\n",
              "      <td>47.931958</td>\n",
              "      <td>48.732570</td>\n",
              "      <td>48.71204</td>\n",
              "      <td>2.091778e+06</td>\n",
              "      <td>4570.767877</td>\n",
              "    </tr>\n",
              "    <tr>\n",
              "      <th>min</th>\n",
              "      <td>81.100000</td>\n",
              "      <td>82.800000</td>\n",
              "      <td>80.000000</td>\n",
              "      <td>81.000000</td>\n",
              "      <td>80.95000</td>\n",
              "      <td>3.961000e+04</td>\n",
              "      <td>37.040000</td>\n",
              "    </tr>\n",
              "    <tr>\n",
              "      <th>25%</th>\n",
              "      <td>120.025000</td>\n",
              "      <td>122.100000</td>\n",
              "      <td>118.300000</td>\n",
              "      <td>120.075000</td>\n",
              "      <td>120.05000</td>\n",
              "      <td>1.146444e+06</td>\n",
              "      <td>1427.460000</td>\n",
              "    </tr>\n",
              "    <tr>\n",
              "      <th>50%</th>\n",
              "      <td>141.500000</td>\n",
              "      <td>143.400000</td>\n",
              "      <td>139.600000</td>\n",
              "      <td>141.100000</td>\n",
              "      <td>141.25000</td>\n",
              "      <td>1.783456e+06</td>\n",
              "      <td>2512.030000</td>\n",
              "    </tr>\n",
              "    <tr>\n",
              "      <th>75%</th>\n",
              "      <td>157.175000</td>\n",
              "      <td>159.400000</td>\n",
              "      <td>155.150000</td>\n",
              "      <td>156.925000</td>\n",
              "      <td>156.90000</td>\n",
              "      <td>2.813594e+06</td>\n",
              "      <td>4539.015000</td>\n",
              "    </tr>\n",
              "    <tr>\n",
              "      <th>max</th>\n",
              "      <td>327.700000</td>\n",
              "      <td>328.750000</td>\n",
              "      <td>321.650000</td>\n",
              "      <td>325.950000</td>\n",
              "      <td>325.75000</td>\n",
              "      <td>2.919102e+07</td>\n",
              "      <td>55755.080000</td>\n",
              "    </tr>\n",
              "  </tbody>\n",
              "</table>\n",
              "</div>\n",
              "      <button class=\"colab-df-convert\" onclick=\"convertToInteractive('df-7ffc8fac-a2cf-4a0c-a448-67d092fd0659')\"\n",
              "              title=\"Convert this dataframe to an interactive table.\"\n",
              "              style=\"display:none;\">\n",
              "        \n",
              "  <svg xmlns=\"http://www.w3.org/2000/svg\" height=\"24px\"viewBox=\"0 0 24 24\"\n",
              "       width=\"24px\">\n",
              "    <path d=\"M0 0h24v24H0V0z\" fill=\"none\"/>\n",
              "    <path d=\"M18.56 5.44l.94 2.06.94-2.06 2.06-.94-2.06-.94-.94-2.06-.94 2.06-2.06.94zm-11 1L8.5 8.5l.94-2.06 2.06-.94-2.06-.94L8.5 2.5l-.94 2.06-2.06.94zm10 10l.94 2.06.94-2.06 2.06-.94-2.06-.94-.94-2.06-.94 2.06-2.06.94z\"/><path d=\"M17.41 7.96l-1.37-1.37c-.4-.4-.92-.59-1.43-.59-.52 0-1.04.2-1.43.59L10.3 9.45l-7.72 7.72c-.78.78-.78 2.05 0 2.83L4 21.41c.39.39.9.59 1.41.59.51 0 1.02-.2 1.41-.59l7.78-7.78 2.81-2.81c.8-.78.8-2.07 0-2.86zM5.41 20L4 18.59l7.72-7.72 1.47 1.35L5.41 20z\"/>\n",
              "  </svg>\n",
              "      </button>\n",
              "      \n",
              "  <style>\n",
              "    .colab-df-container {\n",
              "      display:flex;\n",
              "      flex-wrap:wrap;\n",
              "      gap: 12px;\n",
              "    }\n",
              "\n",
              "    .colab-df-convert {\n",
              "      background-color: #E8F0FE;\n",
              "      border: none;\n",
              "      border-radius: 50%;\n",
              "      cursor: pointer;\n",
              "      display: none;\n",
              "      fill: #1967D2;\n",
              "      height: 32px;\n",
              "      padding: 0 0 0 0;\n",
              "      width: 32px;\n",
              "    }\n",
              "\n",
              "    .colab-df-convert:hover {\n",
              "      background-color: #E2EBFA;\n",
              "      box-shadow: 0px 1px 2px rgba(60, 64, 67, 0.3), 0px 1px 3px 1px rgba(60, 64, 67, 0.15);\n",
              "      fill: #174EA6;\n",
              "    }\n",
              "\n",
              "    [theme=dark] .colab-df-convert {\n",
              "      background-color: #3B4455;\n",
              "      fill: #D2E3FC;\n",
              "    }\n",
              "\n",
              "    [theme=dark] .colab-df-convert:hover {\n",
              "      background-color: #434B5C;\n",
              "      box-shadow: 0px 1px 3px 1px rgba(0, 0, 0, 0.15);\n",
              "      filter: drop-shadow(0px 1px 2px rgba(0, 0, 0, 0.3));\n",
              "      fill: #FFFFFF;\n",
              "    }\n",
              "  </style>\n",
              "\n",
              "      <script>\n",
              "        const buttonEl =\n",
              "          document.querySelector('#df-7ffc8fac-a2cf-4a0c-a448-67d092fd0659 button.colab-df-convert');\n",
              "        buttonEl.style.display =\n",
              "          google.colab.kernel.accessAllowed ? 'block' : 'none';\n",
              "\n",
              "        async function convertToInteractive(key) {\n",
              "          const element = document.querySelector('#df-7ffc8fac-a2cf-4a0c-a448-67d092fd0659');\n",
              "          const dataTable =\n",
              "            await google.colab.kernel.invokeFunction('convertToInteractive',\n",
              "                                                     [key], {});\n",
              "          if (!dataTable) return;\n",
              "\n",
              "          const docLinkHtml = 'Like what you see? Visit the ' +\n",
              "            '<a target=\"_blank\" href=https://colab.research.google.com/notebooks/data_table.ipynb>data table notebook</a>'\n",
              "            + ' to learn more about interactive tables.';\n",
              "          element.innerHTML = '';\n",
              "          dataTable['output_type'] = 'display_data';\n",
              "          await google.colab.output.renderOutput(dataTable, element);\n",
              "          const docLink = document.createElement('div');\n",
              "          docLink.innerHTML = docLinkHtml;\n",
              "          element.appendChild(docLink);\n",
              "        }\n",
              "      </script>\n",
              "    </div>\n",
              "  </div>\n",
              "  "
            ]
          },
          "metadata": {},
          "execution_count": 30
        }
      ]
    },
    {
      "cell_type": "code",
      "source": [
        "#checking for missings\n",
        "df.isnull().sum().sum()"
      ],
      "metadata": {
        "colab": {
          "base_uri": "https://localhost:8080/"
        },
        "id": "uqBNC-TBDn0a",
        "outputId": "65f5568a-1ff3-4208-e686-24cb070f2708"
      },
      "execution_count": 31,
      "outputs": [
        {
          "output_type": "execute_result",
          "data": {
            "text/plain": [
              "0"
            ]
          },
          "metadata": {},
          "execution_count": 31
        }
      ]
    },
    {
      "cell_type": "code",
      "source": [
        "#visualization\n",
        "close = df.reset_index()['Close']\n",
        "plt.figure(figsize=(15,6))\n",
        "plt.plot(close, c= \"g\")\n",
        "plt.show()"
      ],
      "metadata": {
        "colab": {
          "base_uri": "https://localhost:8080/",
          "height": 366
        },
        "id": "gKIeDBKmDwEg",
        "outputId": "a904c92e-86be-4703-fdaf-3f0283138a49"
      },
      "execution_count": 32,
      "outputs": [
        {
          "output_type": "display_data",
          "data": {
            "text/plain": [
              "<Figure size 1080x432 with 1 Axes>"
            ],
            "image/png": "[encoded data removed]"
          },
          "metadata": {
            "needs_background": "light"
          }
        }
      ]
    },
    {
      "cell_type": "code",
      "source": [
        "scale = MinMaxScaler(feature_range=(0,1))\n",
        "close = scale.fit_transform(np.array(close).reshape(-1,1))\n",
        "close.shape"
      ],
      "metadata": {
        "colab": {
          "base_uri": "https://localhost:8080/"
        },
        "id": "cmS0i7W2MqBN",
        "outputId": "0a21cdca-7522-48e6-b56e-75849d1be6e4"
      },
      "execution_count": 36,
      "outputs": [
        {
          "output_type": "execute_result",
          "data": {
            "text/plain": [
              "(2035, 1)"
            ]
          },
          "metadata": {},
          "execution_count": 36
        }
      ]
    },
    {
      "cell_type": "code",
      "source": [
        "train = int(len(close)*0.7)\n",
        "test = len(close) - train\n",
        "train_data, test_data = close[0:train,:], close[train:len(close),:1]"
      ],
      "metadata": {
        "id": "htYHmexAOKwi"
      },
      "execution_count": 39,
      "outputs": []
    },
    {
      "cell_type": "code",
      "source": [
        "def create_dataset(dataset, time_step = 1):\n",
        "    dataX, dataY = [], []\n",
        "    for i in range(len(dataset) - time_step - 1):\n",
        "        a = dataset[i:(i+time_step), 0]\n",
        "        dataX.append(a)\n",
        "        dataY.append(dataset[i+time_step, 0])\n",
        "    return np.array(dataX), np.array(dataY)\n",
        "time_step = 100\n",
        "x_train, y_train = create_dataset(train_data, time_step)\n",
        "x_test, y_test = create_dataset(test_data, time_step)\n",
        "x_train = x_train.reshape(x_train.shape[0], x_train.shape[1], 1)\n",
        "x_test = x_test.reshape(x_test.shape[0], x_test.shape[1], 1)"
      ],
      "metadata": {
        "id": "54VOYv0JRelu"
      },
      "execution_count": 42,
      "outputs": []
    },
    {
      "cell_type": "code",
      "source": [
        "#creating the LTSM Stacked Model\n",
        "import math\n",
        "from sklearn.metrics import mean_squared_error\n",
        "import tensorflow as tf\n",
        "from tensorflow.python.keras.models import Sequential\n",
        "from tensorflow.python.keras.layers import Dense\n",
        "from tensorflow.python.keras.layers import LSTM"
      ],
      "metadata": {
        "id": "zyVDH4i8RkTu"
      },
      "execution_count": 43,
      "outputs": []
    },
    {
      "cell_type": "code",
      "source": [
        "model = Sequential()\n",
        "model.add(LSTM(50, return_sequences = True, input_shape = (100,1)))\n",
        "model.add(LSTM(50, return_sequences = True))\n",
        "model.add(LSTM(50))\n",
        "model.add(Dense(1))\n",
        "model.compile(loss = 'mean_squared_error', optimizer = 'adam')"
      ],
      "metadata": {
        "id": "WxzZOxRzR0Nc"
      },
      "execution_count": 44,
      "outputs": []
    },
    {
      "cell_type": "code",
      "source": [
        "model.fit(x_train, y_train, validation_data = (x_test, y_test), epochs = 100, batch_size = 64, verbose = 1)\n"
      ],
      "metadata": {
        "colab": {
          "base_uri": "https://localhost:8080/"
        },
        "id": "WOG7Tk9xR3Yf",
        "outputId": "f33f2774-5e58-4635-e2ad-8eb1027c1750"
      },
      "execution_count": 45,
      "outputs": [
        {
          "output_type": "stream",
          "name": "stdout",
          "text": [
            "Epoch 1/100\n",
            "21/21 [==============================] - 12s 257ms/step - loss: 0.0254 - val_loss: 0.0047\n",
            "Epoch 2/100\n",
            "21/21 [==============================] - 5s 226ms/step - loss: 0.0031 - val_loss: 0.0015\n",
            "Epoch 3/100\n",
            "21/21 [==============================] - 5s 229ms/step - loss: 0.0016 - val_loss: 7.6524e-04\n",
            "Epoch 4/100\n",
            "21/21 [==============================] - 6s 299ms/step - loss: 0.0014 - val_loss: 0.0014\n",
            "Epoch 5/100\n",
            "21/21 [==============================] - 6s 301ms/step - loss: 0.0013 - val_loss: 0.0011\n",
            "Epoch 6/100\n",
            "21/21 [==============================] - 7s 347ms/step - loss: 0.0012 - val_loss: 0.0012\n",
            "Epoch 7/100\n",
            "21/21 [==============================] - 12s 551ms/step - loss: 0.0013 - val_loss: 0.0013\n",
            "Epoch 8/100\n",
            "21/21 [==============================] - 6s 267ms/step - loss: 0.0011 - val_loss: 7.7698e-04\n",
            "Epoch 9/100\n",
            "21/21 [==============================] - 5s 226ms/step - loss: 0.0011 - val_loss: 0.0012\n",
            "Epoch 10/100\n",
            "21/21 [==============================] - 5s 227ms/step - loss: 0.0012 - val_loss: 0.0012\n",
            "Epoch 11/100\n",
            "21/21 [==============================] - 5s 229ms/step - loss: 0.0011 - val_loss: 7.2843e-04\n",
            "Epoch 12/100\n",
            "21/21 [==============================] - 5s 229ms/step - loss: 9.2581e-04 - val_loss: 8.4359e-04\n",
            "Epoch 13/100\n",
            "21/21 [==============================] - 6s 284ms/step - loss: 9.2745e-04 - val_loss: 6.2403e-04\n",
            "Epoch 14/100\n",
            "21/21 [==============================] - 8s 403ms/step - loss: 8.8719e-04 - val_loss: 8.6060e-04\n",
            "Epoch 15/100\n",
            "21/21 [==============================] - 9s 416ms/step - loss: 8.1967e-04 - val_loss: 4.7744e-04\n",
            "Epoch 16/100\n",
            "21/21 [==============================] - 6s 275ms/step - loss: 8.3897e-04 - val_loss: 7.0631e-04\n",
            "Epoch 17/100\n",
            "21/21 [==============================] - 5s 225ms/step - loss: 7.3595e-04 - val_loss: 6.9410e-04\n",
            "Epoch 18/100\n",
            "21/21 [==============================] - 5s 228ms/step - loss: 7.2521e-04 - val_loss: 9.1425e-04\n",
            "Epoch 19/100\n",
            "21/21 [==============================] - 5s 226ms/step - loss: 7.2262e-04 - val_loss: 6.4302e-04\n",
            "Epoch 20/100\n",
            "21/21 [==============================] - 6s 266ms/step - loss: 6.7281e-04 - val_loss: 5.8569e-04\n",
            "Epoch 21/100\n",
            "21/21 [==============================] - 5s 229ms/step - loss: 6.8171e-04 - val_loss: 6.1940e-04\n",
            "Epoch 22/100\n",
            "21/21 [==============================] - 5s 241ms/step - loss: 6.7270e-04 - val_loss: 7.1785e-04\n",
            "Epoch 23/100\n",
            "21/21 [==============================] - 5s 235ms/step - loss: 6.2422e-04 - val_loss: 5.8221e-04\n",
            "Epoch 24/100\n",
            "21/21 [==============================] - 5s 223ms/step - loss: 6.7200e-04 - val_loss: 6.2874e-04\n",
            "Epoch 25/100\n",
            "21/21 [==============================] - 5s 224ms/step - loss: 5.7822e-04 - val_loss: 6.0797e-04\n",
            "Epoch 26/100\n",
            "21/21 [==============================] - 6s 268ms/step - loss: 5.8328e-04 - val_loss: 7.7483e-04\n",
            "Epoch 27/100\n",
            "21/21 [==============================] - 7s 351ms/step - loss: 5.4075e-04 - val_loss: 6.1972e-04\n",
            "Epoch 28/100\n",
            "21/21 [==============================] - 6s 294ms/step - loss: 5.4381e-04 - val_loss: 7.8637e-04\n",
            "Epoch 29/100\n",
            "21/21 [==============================] - 6s 265ms/step - loss: 5.2010e-04 - val_loss: 6.0949e-04\n",
            "Epoch 30/100\n",
            "21/21 [==============================] - 6s 292ms/step - loss: 5.7357e-04 - val_loss: 6.0773e-04\n",
            "Epoch 31/100\n",
            "21/21 [==============================] - 7s 327ms/step - loss: 5.7466e-04 - val_loss: 6.5562e-04\n",
            "Epoch 32/100\n",
            "21/21 [==============================] - 7s 338ms/step - loss: 4.9186e-04 - val_loss: 3.9138e-04\n",
            "Epoch 33/100\n",
            "21/21 [==============================] - 11s 539ms/step - loss: 5.2989e-04 - val_loss: 7.1930e-04\n",
            "Epoch 34/100\n",
            "21/21 [==============================] - 5s 227ms/step - loss: 4.8055e-04 - val_loss: 6.1637e-04\n",
            "Epoch 35/100\n",
            "21/21 [==============================] - 5s 229ms/step - loss: 4.9419e-04 - val_loss: 4.4888e-04\n",
            "Epoch 36/100\n",
            "21/21 [==============================] - 8s 372ms/step - loss: 5.1902e-04 - val_loss: 4.4003e-04\n",
            "Epoch 37/100\n",
            "21/21 [==============================] - 5s 226ms/step - loss: 5.5732e-04 - val_loss: 7.1378e-04\n",
            "Epoch 38/100\n",
            "21/21 [==============================] - 5s 227ms/step - loss: 5.1689e-04 - val_loss: 5.4355e-04\n",
            "Epoch 39/100\n",
            "21/21 [==============================] - 5s 230ms/step - loss: 4.7871e-04 - val_loss: 3.7442e-04\n",
            "Epoch 40/100\n",
            "21/21 [==============================] - 5s 226ms/step - loss: 4.2775e-04 - val_loss: 4.1564e-04\n",
            "Epoch 41/100\n",
            "21/21 [==============================] - 5s 231ms/step - loss: 4.4860e-04 - val_loss: 5.0365e-04\n",
            "Epoch 42/100\n",
            "21/21 [==============================] - 5s 229ms/step - loss: 4.3066e-04 - val_loss: 4.6826e-04\n",
            "Epoch 43/100\n",
            "21/21 [==============================] - 6s 302ms/step - loss: 4.0315e-04 - val_loss: 4.7605e-04\n",
            "Epoch 44/100\n",
            "21/21 [==============================] - 7s 349ms/step - loss: 4.3581e-04 - val_loss: 4.6551e-04\n",
            "Epoch 45/100\n",
            "21/21 [==============================] - 6s 269ms/step - loss: 3.9661e-04 - val_loss: 3.9921e-04\n",
            "Epoch 46/100\n",
            "21/21 [==============================] - 5s 232ms/step - loss: 3.8375e-04 - val_loss: 4.4392e-04\n",
            "Epoch 47/100\n",
            "21/21 [==============================] - 5s 231ms/step - loss: 3.7597e-04 - val_loss: 4.3589e-04\n",
            "Epoch 48/100\n",
            "21/21 [==============================] - 6s 308ms/step - loss: 4.4521e-04 - val_loss: 3.6349e-04\n",
            "Epoch 49/100\n",
            "21/21 [==============================] - 6s 262ms/step - loss: 3.5649e-04 - val_loss: 4.4185e-04\n",
            "Epoch 50/100\n",
            "21/21 [==============================] - 5s 231ms/step - loss: 3.8959e-04 - val_loss: 4.3384e-04\n",
            "Epoch 51/100\n",
            "21/21 [==============================] - 5s 232ms/step - loss: 3.6084e-04 - val_loss: 3.3203e-04\n",
            "Epoch 52/100\n",
            "21/21 [==============================] - 6s 249ms/step - loss: 4.0040e-04 - val_loss: 3.4763e-04\n",
            "Epoch 53/100\n",
            "21/21 [==============================] - 5s 230ms/step - loss: 3.5667e-04 - val_loss: 4.2393e-04\n",
            "Epoch 54/100\n",
            "21/21 [==============================] - 5s 228ms/step - loss: 3.5574e-04 - val_loss: 3.3087e-04\n",
            "Epoch 55/100\n",
            "21/21 [==============================] - 5s 226ms/step - loss: 3.1642e-04 - val_loss: 4.1114e-04\n",
            "Epoch 56/100\n",
            "21/21 [==============================] - 5s 245ms/step - loss: 3.5210e-04 - val_loss: 3.6713e-04\n",
            "Epoch 57/100\n",
            "21/21 [==============================] - 5s 236ms/step - loss: 3.1205e-04 - val_loss: 2.8441e-04\n",
            "Epoch 58/100\n",
            "21/21 [==============================] - 5s 232ms/step - loss: 2.9946e-04 - val_loss: 3.0288e-04\n",
            "Epoch 59/100\n",
            "21/21 [==============================] - 7s 329ms/step - loss: 2.9464e-04 - val_loss: 2.5776e-04\n",
            "Epoch 60/100\n",
            "21/21 [==============================] - 9s 424ms/step - loss: 3.2931e-04 - val_loss: 2.6023e-04\n",
            "Epoch 61/100\n",
            "21/21 [==============================] - 5s 229ms/step - loss: 2.9547e-04 - val_loss: 3.2282e-04\n",
            "Epoch 62/100\n",
            "21/21 [==============================] - 5s 231ms/step - loss: 2.9966e-04 - val_loss: 4.3986e-04\n",
            "Epoch 63/100\n",
            "21/21 [==============================] - 5s 231ms/step - loss: 3.1757e-04 - val_loss: 5.1211e-04\n",
            "Epoch 64/100\n",
            "21/21 [==============================] - 5s 229ms/step - loss: 2.9347e-04 - val_loss: 3.3123e-04\n",
            "Epoch 65/100\n",
            "21/21 [==============================] - 5s 224ms/step - loss: 2.8701e-04 - val_loss: 2.9717e-04\n",
            "Epoch 66/100\n",
            "21/21 [==============================] - 5s 229ms/step - loss: 2.7557e-04 - val_loss: 2.7003e-04\n",
            "Epoch 67/100\n",
            "21/21 [==============================] - 5s 233ms/step - loss: 2.5909e-04 - val_loss: 2.5316e-04\n",
            "Epoch 68/100\n",
            "21/21 [==============================] - 5s 228ms/step - loss: 2.9062e-04 - val_loss: 2.9914e-04\n",
            "Epoch 69/100\n",
            "21/21 [==============================] - 5s 229ms/step - loss: 3.7086e-04 - val_loss: 1.9393e-04\n",
            "Epoch 70/100\n",
            "21/21 [==============================] - 5s 230ms/step - loss: 3.8248e-04 - val_loss: 2.6498e-04\n",
            "Epoch 71/100\n",
            "21/21 [==============================] - 5s 233ms/step - loss: 2.7024e-04 - val_loss: 2.7016e-04\n",
            "Epoch 72/100\n",
            "21/21 [==============================] - 6s 280ms/step - loss: 2.5798e-04 - val_loss: 2.4475e-04\n",
            "Epoch 73/100\n",
            "21/21 [==============================] - 5s 233ms/step - loss: 2.4591e-04 - val_loss: 2.6205e-04\n",
            "Epoch 74/100\n",
            "21/21 [==============================] - 5s 231ms/step - loss: 2.7405e-04 - val_loss: 2.2935e-04\n",
            "Epoch 75/100\n",
            "21/21 [==============================] - 6s 267ms/step - loss: 3.8396e-04 - val_loss: 1.9582e-04\n",
            "Epoch 76/100\n",
            "21/21 [==============================] - 5s 229ms/step - loss: 3.1178e-04 - val_loss: 2.0902e-04\n",
            "Epoch 77/100\n",
            "21/21 [==============================] - 5s 226ms/step - loss: 2.4570e-04 - val_loss: 1.9228e-04\n",
            "Epoch 78/100\n",
            "21/21 [==============================] - 5s 221ms/step - loss: 2.4862e-04 - val_loss: 2.1103e-04\n",
            "Epoch 79/100\n",
            "21/21 [==============================] - 5s 226ms/step - loss: 2.3859e-04 - val_loss: 2.1165e-04\n",
            "Epoch 80/100\n",
            "21/21 [==============================] - 5s 228ms/step - loss: 2.3025e-04 - val_loss: 3.1738e-04\n",
            "Epoch 81/100\n",
            "21/21 [==============================] - 5s 229ms/step - loss: 2.2683e-04 - val_loss: 3.2551e-04\n",
            "Epoch 82/100\n",
            "21/21 [==============================] - 5s 229ms/step - loss: 2.2944e-04 - val_loss: 2.0333e-04\n",
            "Epoch 83/100\n",
            "21/21 [==============================] - 5s 229ms/step - loss: 2.2124e-04 - val_loss: 2.2198e-04\n",
            "Epoch 84/100\n",
            "21/21 [==============================] - 5s 229ms/step - loss: 2.2315e-04 - val_loss: 2.3071e-04\n",
            "Epoch 85/100\n",
            "21/21 [==============================] - 5s 225ms/step - loss: 2.4067e-04 - val_loss: 1.9614e-04\n",
            "Epoch 86/100\n",
            "21/21 [==============================] - 5s 229ms/step - loss: 2.3550e-04 - val_loss: 2.0886e-04\n",
            "Epoch 87/100\n",
            "21/21 [==============================] - 5s 229ms/step - loss: 2.2766e-04 - val_loss: 1.9257e-04\n",
            "Epoch 88/100\n",
            "21/21 [==============================] - 5s 230ms/step - loss: 2.2473e-04 - val_loss: 1.6831e-04\n",
            "Epoch 89/100\n",
            "21/21 [==============================] - 5s 232ms/step - loss: 2.1903e-04 - val_loss: 1.7212e-04\n",
            "Epoch 90/100\n",
            "21/21 [==============================] - 5s 229ms/step - loss: 2.2151e-04 - val_loss: 2.1055e-04\n",
            "Epoch 91/100\n",
            "21/21 [==============================] - 5s 228ms/step - loss: 2.2326e-04 - val_loss: 1.7742e-04\n",
            "Epoch 92/100\n",
            "21/21 [==============================] - 5s 228ms/step - loss: 2.1939e-04 - val_loss: 2.8183e-04\n",
            "Epoch 93/100\n",
            "21/21 [==============================] - 5s 228ms/step - loss: 2.3096e-04 - val_loss: 1.6979e-04\n",
            "Epoch 94/100\n",
            "21/21 [==============================] - 5s 231ms/step - loss: 2.2108e-04 - val_loss: 1.8737e-04\n",
            "Epoch 95/100\n",
            "21/21 [==============================] - 5s 233ms/step - loss: 2.2419e-04 - val_loss: 2.0972e-04\n",
            "Epoch 96/100\n",
            "21/21 [==============================] - 5s 232ms/step - loss: 2.9737e-04 - val_loss: 2.4638e-04\n",
            "Epoch 97/100\n",
            "21/21 [==============================] - 5s 232ms/step - loss: 3.2104e-04 - val_loss: 1.9133e-04\n",
            "Epoch 98/100\n",
            "21/21 [==============================] - 5s 230ms/step - loss: 2.6966e-04 - val_loss: 1.6625e-04\n",
            "Epoch 99/100\n",
            "21/21 [==============================] - 6s 266ms/step - loss: 2.9780e-04 - val_loss: 1.5304e-04\n",
            "Epoch 100/100\n",
            "21/21 [==============================] - 5s 231ms/step - loss: 2.4064e-04 - val_loss: 1.5547e-04\n"
          ]
        },
        {
          "output_type": "execute_result",
          "data": {
            "text/plain": [
              "<tensorflow.python.keras.callbacks.History at 0x7f34f7f90f10>"
            ]
          },
          "metadata": {},
          "execution_count": 45
        }
      ]
    },
    {
      "cell_type": "code",
      "source": [
        "# checking performance matrix\n",
        "train_predict = model.predict(x_train)\n",
        "test_predict = model.predict(x_test)\n",
        "# back to original form\n",
        "train_predict = scale.inverse_transform(train_predict)\n",
        "test_predict = scale.inverse_transform(test_predict)\n",
        "#Calculate RMSE performance metrics\n",
        "math.sqrt(mean_squared_error(y_train, train_predict))"
      ],
      "metadata": {
        "colab": {
          "base_uri": "https://localhost:8080/"
        },
        "id": "Pgq9QdyTR6FN",
        "outputId": "72a295b9-bd2d-44ba-b0af-870264d5daf0"
      },
      "execution_count": 46,
      "outputs": [
        {
          "output_type": "execute_result",
          "data": {
            "text/plain": [
              "0.015367481148718012"
            ]
          },
          "metadata": {},
          "execution_count": 46
        }
      ]
    },
    {
      "cell_type": "code",
      "source": [
        "#Test RMSE Data\n",
        "math.sqrt(mean_squared_error(y_test, test_predict))"
      ],
      "metadata": {
        "colab": {
          "base_uri": "https://localhost:8080/"
        },
        "id": "7ujFv38hSO_F",
        "outputId": "862c3629-29c1-4555-f8b8-fa0724ccba04"
      },
      "execution_count": 47,
      "outputs": [
        {
          "output_type": "execute_result",
          "data": {
            "text/plain": [
              "0.012468820836967818"
            ]
          },
          "metadata": {},
          "execution_count": 47
        }
      ]
    },
    {
      "cell_type": "code",
      "source": [
        "#Shift train prediction for plotting\n",
        "look_back = 100\n",
        "trainPredictPlot = np.empty_like(close)\n",
        "trainPredictPlot[:,:] = np.nan\n",
        "trainPredictPlot[look_back:len(train_predict) + look_back, :] = train_predict\n",
        "#Shift test prediction for plotting\n",
        "testPredictPlot = np.empty_like(close)\n",
        "testPredictPlot[:,:] = np.nan\n",
        "testPredictPlot[len(train_predict) + (look_back * 2)+1:len(close) - 1, :] = test_predict"
      ],
      "metadata": {
        "id": "fhMDc-WqSPyP"
      },
      "execution_count": 48,
      "outputs": []
    },
    {
      "cell_type": "code",
      "source": [
        "#Plot baseline and predictions\n",
        "plt.figure(figsize=(10,6))\n",
        "\n",
        "plt.plot(scale.inverse_transform(close))\n",
        "plt.plot(trainPredictPlot)\n",
        "plt.plot(testPredictPlot)\n",
        "plt.show()\n",
        "\n",
        "print(\"green is the Predicted Data\")\n",
        "print(\"blue is the Complete Data\")\n",
        "print(\"orange is the Train Data\")"
      ],
      "metadata": {
        "colab": {
          "base_uri": "https://localhost:8080/",
          "height": 426
        },
        "id": "rDs98NXCSiFy",
        "outputId": "77c42f1a-4e75-402f-dedb-a53a65aa874a"
      },
      "execution_count": 49,
      "outputs": [
        {
          "output_type": "display_data",
          "data": {
            "text/plain": [
              "<Figure size 720x432 with 1 Axes>"
            ],
            "image/png": "[encoded data removed]"
          },
          "metadata": {
            "needs_background": "light"
          }
        },
        {
          "output_type": "stream",
          "name": "stdout",
          "text": [
            "green is the Predicted Data\n",
            "blue is the Complete Data\n",
            "orange is the Train Data\n"
          ]
        }
      ]
    },
    {
      "cell_type": "code",
      "source": [
        "#Predict  next 28 days of stock prices\n",
        "len(test_data), x_test.shape"
      ],
      "metadata": {
        "colab": {
          "base_uri": "https://localhost:8080/"
        },
        "id": "SLvPr5LISi8p",
        "outputId": "b76541fe-2cea-47b7-ca4c-d5b218c49fae"
      },
      "execution_count": 50,
      "outputs": [
        {
          "output_type": "execute_result",
          "data": {
            "text/plain": [
              "(611, (510, 100, 1))"
            ]
          },
          "metadata": {},
          "execution_count": 50
        }
      ]
    },
    {
      "cell_type": "code",
      "source": [
        "x_input = test_data[409:].reshape(1,-1)\n",
        "x_input.shape"
      ],
      "metadata": {
        "colab": {
          "base_uri": "https://localhost:8080/"
        },
        "id": "wd878CFdS_vL",
        "outputId": "02e73459-8817-424b-a4a8-a728669ea215"
      },
      "execution_count": 51,
      "outputs": [
        {
          "output_type": "execute_result",
          "data": {
            "text/plain": [
              "(1, 202)"
            ]
          },
          "metadata": {},
          "execution_count": 51
        }
      ]
    }
  ]
}
